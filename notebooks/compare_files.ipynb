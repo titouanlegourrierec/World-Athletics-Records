{
 "cells": [
  {
   "cell_type": "code",
   "execution_count": 23,
   "metadata": {},
   "outputs": [],
   "source": [
    "import pandas as pd\n",
    "\n",
    "data1 = pd.read_csv('data_test/men_world_records.csv', sep=',')\n",
    "data2 = pd.read_csv('data_test/men_world_records_2.csv', sep=',')"
   ]
  },
  {
   "cell_type": "code",
   "execution_count": 17,
   "metadata": {},
   "outputs": [],
   "source": [
    "import pandas as pd\n",
    "\n",
    "data_diff = pd.DataFrame(columns=data1.columns)\n",
    "\n",
    "for discipline in data1[\"DISCIPLINE\"].unique():\n",
    "    row_data1 = data1[data1[\"DISCIPLINE\"] == discipline]\n",
    "    row_data2 = data2[data2[\"DISCIPLINE\"] == discipline]\n",
    "    \n",
    "    if not row_data1.equals(row_data2):\n",
    "        data_diff = pd.concat([data_diff, row_data1, row_data2], ignore_index=True)"
   ]
  },
  {
   "cell_type": "code",
   "execution_count": 18,
   "metadata": {},
   "outputs": [
    {
     "data": {
      "text/html": [
       "<div>\n",
       "<style scoped>\n",
       "    .dataframe tbody tr th:only-of-type {\n",
       "        vertical-align: middle;\n",
       "    }\n",
       "\n",
       "    .dataframe tbody tr th {\n",
       "        vertical-align: top;\n",
       "    }\n",
       "\n",
       "    .dataframe thead th {\n",
       "        text-align: right;\n",
       "    }\n",
       "</style>\n",
       "<table border=\"1\" class=\"dataframe\">\n",
       "  <thead>\n",
       "    <tr style=\"text-align: right;\">\n",
       "      <th></th>\n",
       "      <th>DISCIPLINE</th>\n",
       "      <th>PERF</th>\n",
       "      <th>COMPETITOR</th>\n",
       "      <th>DOB</th>\n",
       "      <th>COUNTRY</th>\n",
       "      <th>VENUE</th>\n",
       "      <th>DATE</th>\n",
       "    </tr>\n",
       "  </thead>\n",
       "  <tbody>\n",
       "    <tr>\n",
       "      <th>0</th>\n",
       "      <td>100 Metres</td>\n",
       "      <td>9.58</td>\n",
       "      <td>Usain BOLT</td>\n",
       "      <td>21 AUG 1986</td>\n",
       "      <td>JAM</td>\n",
       "      <td>Olympiastadion, Berlin (GER)</td>\n",
       "      <td>16 AUG 2009</td>\n",
       "    </tr>\n",
       "    <tr>\n",
       "      <th>1</th>\n",
       "      <td>100 Metres</td>\n",
       "      <td>9.58</td>\n",
       "      <td>Usain BOLTs</td>\n",
       "      <td>21 AUG 1986</td>\n",
       "      <td>JAM</td>\n",
       "      <td>Olympiastadion, Berlin (GER)</td>\n",
       "      <td>16 AUG 2009</td>\n",
       "    </tr>\n",
       "  </tbody>\n",
       "</table>\n",
       "</div>"
      ],
      "text/plain": [
       "   DISCIPLINE  PERF   COMPETITOR          DOB COUNTRY  \\\n",
       "0  100 Metres  9.58   Usain BOLT  21 AUG 1986     JAM   \n",
       "1  100 Metres  9.58  Usain BOLTs  21 AUG 1986     JAM   \n",
       "\n",
       "                          VENUE         DATE  \n",
       "0  Olympiastadion, Berlin (GER)  16 AUG 2009  \n",
       "1  Olympiastadion, Berlin (GER)  16 AUG 2009  "
      ]
     },
     "execution_count": 18,
     "metadata": {},
     "output_type": "execute_result"
    }
   ],
   "source": [
    "data_diff"
   ]
  },
  {
   "cell_type": "code",
   "execution_count": 24,
   "metadata": {},
   "outputs": [],
   "source": [
    "import pandas as pd\n",
    "\n",
    "\n",
    "data_diff = pd.DataFrame()\n",
    "\n",
    "for discipline in data1[\"DISCIPLINE\"].unique():\n",
    "    row_data1 = data1[data1[\"DISCIPLINE\"] == discipline]\n",
    "    row_data2 = data2[data2[\"DISCIPLINE\"] == discipline]\n",
    "    \n",
    "    if not row_data1.equals(row_data2):\n",
    "        merged_row = pd.merge(row_data1, row_data2, on=\"DISCIPLINE\", how=\"outer\", suffixes=('_data1', '_data2'))\n",
    "        data_diff = pd.concat([data_diff, merged_row], ignore_index=True)"
   ]
  },
  {
   "cell_type": "code",
   "execution_count": 25,
   "metadata": {},
   "outputs": [
    {
     "data": {
      "text/html": [
       "<div>\n",
       "<style scoped>\n",
       "    .dataframe tbody tr th:only-of-type {\n",
       "        vertical-align: middle;\n",
       "    }\n",
       "\n",
       "    .dataframe tbody tr th {\n",
       "        vertical-align: top;\n",
       "    }\n",
       "\n",
       "    .dataframe thead th {\n",
       "        text-align: right;\n",
       "    }\n",
       "</style>\n",
       "<table border=\"1\" class=\"dataframe\">\n",
       "  <thead>\n",
       "    <tr style=\"text-align: right;\">\n",
       "      <th></th>\n",
       "      <th>DISCIPLINE</th>\n",
       "      <th>PERF_data1</th>\n",
       "      <th>COMPETITOR_data1</th>\n",
       "      <th>DOB_data1</th>\n",
       "      <th>COUNTRY_data1</th>\n",
       "      <th>VENUE_data1</th>\n",
       "      <th>DATE_data1</th>\n",
       "      <th>PERF_data2</th>\n",
       "      <th>COMPETITOR_data2</th>\n",
       "      <th>DOB_data2</th>\n",
       "      <th>COUNTRY_data2</th>\n",
       "      <th>VENUE_data2</th>\n",
       "      <th>DATE_data2</th>\n",
       "    </tr>\n",
       "  </thead>\n",
       "  <tbody>\n",
       "    <tr>\n",
       "      <th>0</th>\n",
       "      <td>100 Metres</td>\n",
       "      <td>9.58</td>\n",
       "      <td>Usain BOLT</td>\n",
       "      <td>21 AUG 1986</td>\n",
       "      <td>JAM</td>\n",
       "      <td>Olympiastadion, Berlin (GER)</td>\n",
       "      <td>16 AUG 2009</td>\n",
       "      <td>9.58</td>\n",
       "      <td>Usain BOLTs</td>\n",
       "      <td>21 AUG 1986</td>\n",
       "      <td>JAM</td>\n",
       "      <td>Olympiastadion, Berlin (GER)</td>\n",
       "      <td>16 AUG 2009</td>\n",
       "    </tr>\n",
       "    <tr>\n",
       "      <th>1</th>\n",
       "      <td>3000 Metres</td>\n",
       "      <td>7:20.67</td>\n",
       "      <td>Daniel KOMEN</td>\n",
       "      <td>17 MAY 1976</td>\n",
       "      <td>KEN</td>\n",
       "      <td>Rieti (ITA)</td>\n",
       "      <td>01 SEP 1996</td>\n",
       "      <td>7:20.67</td>\n",
       "      <td>Daniel KOMEN</td>\n",
       "      <td>17 MAY 1976</td>\n",
       "      <td>KEN</td>\n",
       "      <td>Rieti (ITA)</td>\n",
       "      <td>01 SEP 1995</td>\n",
       "    </tr>\n",
       "  </tbody>\n",
       "</table>\n",
       "</div>"
      ],
      "text/plain": [
       "    DISCIPLINE PERF_data1 COMPETITOR_data1    DOB_data1 COUNTRY_data1  \\\n",
       "0   100 Metres       9.58       Usain BOLT  21 AUG 1986           JAM   \n",
       "1  3000 Metres    7:20.67     Daniel KOMEN  17 MAY 1976           KEN   \n",
       "\n",
       "                    VENUE_data1   DATE_data1 PERF_data2 COMPETITOR_data2  \\\n",
       "0  Olympiastadion, Berlin (GER)  16 AUG 2009       9.58      Usain BOLTs   \n",
       "1                   Rieti (ITA)  01 SEP 1996    7:20.67     Daniel KOMEN   \n",
       "\n",
       "     DOB_data2 COUNTRY_data2                   VENUE_data2   DATE_data2  \n",
       "0  21 AUG 1986           JAM  Olympiastadion, Berlin (GER)  16 AUG 2009  \n",
       "1  17 MAY 1976           KEN                   Rieti (ITA)  01 SEP 1995  "
      ]
     },
     "execution_count": 25,
     "metadata": {},
     "output_type": "execute_result"
    }
   ],
   "source": [
    "data_diff"
   ]
  }
 ],
 "metadata": {
  "kernelspec": {
   "display_name": "env",
   "language": "python",
   "name": "python3"
  },
  "language_info": {
   "codemirror_mode": {
    "name": "ipython",
    "version": 3
   },
   "file_extension": ".py",
   "mimetype": "text/x-python",
   "name": "python",
   "nbconvert_exporter": "python",
   "pygments_lexer": "ipython3",
   "version": "3.11.8"
  }
 },
 "nbformat": 4,
 "nbformat_minor": 2
}
