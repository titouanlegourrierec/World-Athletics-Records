{
 "cells": [
  {
   "cell_type": "code",
   "execution_count": 1,
   "metadata": {},
   "outputs": [],
   "source": [
    "from selenium import webdriver\n",
    "from selenium.webdriver.common.by import By\n",
    "\n",
    "from bs4 import BeautifulSoup\n",
    "import pandas as pd\n",
    "import time\n",
    "from datetime import datetime"
   ]
  },
  {
   "cell_type": "code",
   "execution_count": 3,
   "metadata": {},
   "outputs": [],
   "source": [
    "def create_csv(content, csv_name):\n",
    "\n",
    "    # Parse the page content with BeautifulSoup\n",
    "    soup = BeautifulSoup(content, 'html.parser')\n",
    "\n",
    "    # Find the table containing the records\n",
    "    list = soup.find(attrs={'class':'Table_table__2zsdR RecordsTable_table__3X8lL'}).find('tbody')\n",
    "\n",
    "    # Find all table rows\n",
    "    liste_items = list.find_all('tr')\n",
    "\n",
    "    # Initialize lists to store the scraped data\n",
    "    DISCIPLINE = []\n",
    "    PERF = []\n",
    "    COMPETITOR = []\n",
    "    DOB = []\n",
    "    COUNTRY = []\n",
    "    VENUE = []\n",
    "    DATE = []\n",
    "\n",
    "    # Loop through each table row\n",
    "    for item in liste_items:\n",
    "\n",
    "        # Find all table data in the row\n",
    "        row = item.find_all('td')\n",
    "\n",
    "        DISCIPLINE.append(row[0].text.strip())\n",
    "\n",
    "        perf = row[2].text.strip()\n",
    "        for r in [\"*\", \"Mx\", \"Wo\", \"h\"]:\n",
    "            perf = perf.replace(r, \"\")\n",
    "        PERF.append(perf.strip())\n",
    "\n",
    "        COMPETITOR.append(row[4].text.strip())\n",
    "\n",
    "        DOB.append(row[5].text.strip())\n",
    "        \n",
    "        COUNTRY.append(row[6].text.strip())\n",
    "\n",
    "        VENUE.append(row[7].text.strip().replace(\"(i)\", \"\"))\n",
    "\n",
    "        DATE.append(row[8].text.strip())\n",
    "\n",
    "    records = pd.DataFrame({'DISCIPLINE': DISCIPLINE,\n",
    "                            'PERF': PERF,\n",
    "                            'COMPETITOR': COMPETITOR,\n",
    "                            'DOB': DOB,\n",
    "                            'COUNTRY': COUNTRY,\n",
    "                            'VENUE': VENUE,\n",
    "                            'DATE': DATE})\n",
    "    records.to_csv(csv_name, index=False)"
   ]
  },
  {
   "cell_type": "code",
   "execution_count": 4,
   "metadata": {},
   "outputs": [],
   "source": [
    "from selenium import webdriver\n",
    "from selenium.webdriver.common.by import By\n",
    "from selenium.webdriver.support.ui import WebDriverWait\n",
    "from selenium.webdriver.support import expected_conditions as EC\n",
    "\n",
    "def click_button(driver, xpath):\n",
    "    try:\n",
    "        button = WebDriverWait(driver, 10).until(\n",
    "            EC.element_to_be_clickable((By.XPATH, xpath))\n",
    "        )\n",
    "        button.click()\n",
    "    except Exception as e:\n",
    "        print(f\"Erreur lors du clic sur le bouton : {e}\")\n",
    "        driver.quit()\n",
    "        assert False\n",
    "\n",
    "def get_content_and_create_csv(driver, url, button_selector, csv_name):\n",
    "    \"\"\"Navigate to a URL, click a button, and create a CSV from the page content.\"\"\"\n",
    "    driver.get(url)\n",
    "    if button_selector:\n",
    "        click_button(driver, button_selector)\n",
    "    content = driver.page_source\n",
    "    create_csv(content, csv_name)"
   ]
  },
  {
   "cell_type": "code",
   "execution_count": 7,
   "metadata": {},
   "outputs": [],
   "source": [
    "categories = [\n",
    "    (\"world-records\", \"world_records\"),\n",
    "    (\"olympic-games-records\", \"olympic_games_records\"),\n",
    "    (\"african-records\", \"african_records\"),\n",
    "    (\"asian-records\", \"asian_records\"),\n",
    "    (\"european-records\", \"european_records\"),\n",
    "    (\"nacac-records\", \"nacac_records\"),\n",
    "    (\"oceanian-records\", \"oceanian_records\"),\n",
    "    (\"south-american-records\", \"south_american_records\")\n",
    "]\n",
    "\n",
    "men_button = '//*[@id=\"__next\"]/div[3]/div/div/div[2]/ul/li[2]/button'\n",
    "\n",
    "with webdriver.Chrome() as driver:\n",
    "    for category, file_name in categories:\n",
    "        base_url = \"https://worldathletics.org/records/by-category/\"\n",
    "        get_content_and_create_csv(driver, f\"{base_url}{category}\", None, f\"data/women_{file_name}.csv\")\n",
    "        get_content_and_create_csv(driver, f\"{base_url}{category}\", men_button, f\"data/men_{file_name}.csv\")"
   ]
  },
  {
   "cell_type": "code",
   "execution_count": 9,
   "metadata": {},
   "outputs": [
    {
     "name": "stdout",
     "output_type": "stream",
     "text": [
      "Les fichiers world_records.csv ont été créés avec succès.\n",
      "Les fichiers olympic_games_records.csv ont été créés avec succès.\n",
      "Les fichiers african_records.csv ont été créés avec succès.\n",
      "Les fichiers asian_records.csv ont été créés avec succès.\n",
      "Les fichiers european_records.csv ont été créés avec succès.\n",
      "Les fichiers nacac_records.csv ont été créés avec succès.\n",
      "Les fichiers oceanian_records.csv ont été créés avec succès.\n",
      "Les fichiers south_american_records.csv ont été créés avec succès.\n"
     ]
    }
   ],
   "source": [
    "from selenium import webdriver\n",
    "from selenium.webdriver.chrome.options import Options\n",
    "\n",
    "chrome_options = Options()\n",
    "chrome_options.add_argument(\"--headless\")  # Active le mode headless\n",
    "\n",
    "with webdriver.Chrome(options=chrome_options) as driver:\n",
    "    for category, file_name in categories:\n",
    "        base_url = \"https://worldathletics.org/records/by-category/\"\n",
    "        get_content_and_create_csv(driver, f\"{base_url}{category}\", None, f\"data/women_{file_name}.csv\")\n",
    "        get_content_and_create_csv(driver, f\"{base_url}{category}\", men_button, f\"data/men_{file_name}.csv\")\n",
    "\n",
    "        print(f\"Les fichiers {file_name}.csv ont été créés avec succès.\")"
   ]
  }
 ],
 "metadata": {
  "kernelspec": {
   "display_name": "env",
   "language": "python",
   "name": "python3"
  },
  "language_info": {
   "codemirror_mode": {
    "name": "ipython",
    "version": 3
   },
   "file_extension": ".py",
   "mimetype": "text/x-python",
   "name": "python",
   "nbconvert_exporter": "python",
   "pygments_lexer": "ipython3",
   "version": "3.11.8"
  }
 },
 "nbformat": 4,
 "nbformat_minor": 2
}
