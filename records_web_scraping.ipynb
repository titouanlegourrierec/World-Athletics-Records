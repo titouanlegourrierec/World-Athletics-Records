{
 "cells": [
  {
   "cell_type": "code",
   "execution_count": 21,
   "metadata": {},
   "outputs": [],
   "source": [
    "from selenium import webdriver\n",
    "from selenium.webdriver.common.by import By\n",
    "\n",
    "from bs4 import BeautifulSoup\n",
    "import pandas as pd\n",
    "import time"
   ]
  },
  {
   "cell_type": "code",
   "execution_count": 24,
   "metadata": {},
   "outputs": [],
   "source": [
    "def create_csv(content, csv_name):\n",
    "\n",
    "    # Parse the page content with BeautifulSoup\n",
    "    soup = BeautifulSoup(content, 'html.parser')\n",
    "\n",
    "    # Find the table containing the records\n",
    "    #list = soup.find(attrs={'class':'records-table'}).find('tbody') #Find the table containing the records\n",
    "    list = soup.find(attrs={'role': 'tab-panel', 'class': 'tab-pane active'}).find('tbody') #Find the table containing the records\n",
    "\n",
    "    # Find all table rows\n",
    "    liste_items = list.find_all('tr')\n",
    "\n",
    "    # Initialize lists to store the scraped data\n",
    "    DISCIPLINE = []\n",
    "    PERF = []\n",
    "    COMPETITOR = []\n",
    "    DOB = []\n",
    "    COUNTRY = []\n",
    "    VENUE = []\n",
    "    DATE = []\n",
    "\n",
    "    # Loop through each table row\n",
    "    for item in liste_items:\n",
    "\n",
    "        # Find all table data in the row\n",
    "        row = item.find_all('td')\n",
    "\n",
    "        DISCIPLINE.append(row[0].text.strip())\n",
    "\n",
    "        perf = row[2].text.strip()\n",
    "        for r in [\"*\", \"Mx\", \"Wo\", \"h\"]:\n",
    "            perf = perf.replace(r, \"\")\n",
    "        PERF.append(perf.strip())\n",
    "\n",
    "        COMPETITOR.append(row[4].text.strip())\n",
    "\n",
    "        DOB.append(row[5].text.strip())\n",
    "        \n",
    "        COUNTRY.append(row[6].text.strip())\n",
    "\n",
    "        VENUE.append(row[7].text.strip())\n",
    "\n",
    "        DATE.append(row[8].text.strip())\n",
    "\n",
    "    records = pd.DataFrame({'DISCIPLINE': DISCIPLINE,\n",
    "                            'PERF': PERF,\n",
    "                            'COMPETITOR': COMPETITOR,\n",
    "                            'DOB': DOB,\n",
    "                            'COUNTRY': COUNTRY,\n",
    "                            'VENUE': VENUE,\n",
    "                            'DATE': DATE})\n",
    "    records.to_csv(csv_name, index=False)"
   ]
  },
  {
   "cell_type": "code",
   "execution_count": 25,
   "metadata": {},
   "outputs": [
    {
     "ename": "AttributeError",
     "evalue": "'NoneType' object has no attribute 'find'",
     "output_type": "error",
     "traceback": [
      "\u001b[0;31m---------------------------------------------------------------------------\u001b[0m",
      "\u001b[0;31mAttributeError\u001b[0m                            Traceback (most recent call last)",
      "Cell \u001b[0;32mIn[25], line 7\u001b[0m\n\u001b[1;32m      3\u001b[0m driver\u001b[38;5;241m.\u001b[39mget(\u001b[38;5;124m\"\u001b[39m\u001b[38;5;124mhttps://worldathletics.org/records/by-category/world-records\u001b[39m\u001b[38;5;124m\"\u001b[39m)\n\u001b[1;32m      5\u001b[0m content \u001b[38;5;241m=\u001b[39m driver\u001b[38;5;241m.\u001b[39mpage_source\n\u001b[0;32m----> 7\u001b[0m \u001b[43mcreate_csv\u001b[49m\u001b[43m(\u001b[49m\u001b[43mcontent\u001b[49m\u001b[43m,\u001b[49m\u001b[43m \u001b[49m\u001b[38;5;124;43m\"\u001b[39;49m\u001b[38;5;124;43mwomen_records.csv\u001b[39;49m\u001b[38;5;124;43m\"\u001b[39;49m\u001b[43m)\u001b[49m\n\u001b[1;32m      9\u001b[0m \u001b[38;5;28;01mtry\u001b[39;00m:\n\u001b[1;32m     10\u001b[0m     button \u001b[38;5;241m=\u001b[39m driver\u001b[38;5;241m.\u001b[39mfind_element(By\u001b[38;5;241m.\u001b[39mXPATH, \u001b[38;5;124m\"\u001b[39m\u001b[38;5;124m/html/body/div[3]/div/div[3]/div/ul/li[2]\u001b[39m\u001b[38;5;124m\"\u001b[39m)\n",
      "Cell \u001b[0;32mIn[24], line 8\u001b[0m, in \u001b[0;36mcreate_csv\u001b[0;34m(content, csv_name)\u001b[0m\n\u001b[1;32m      4\u001b[0m soup \u001b[38;5;241m=\u001b[39m BeautifulSoup(content, \u001b[38;5;124m'\u001b[39m\u001b[38;5;124mhtml.parser\u001b[39m\u001b[38;5;124m'\u001b[39m)\n\u001b[1;32m      6\u001b[0m \u001b[38;5;66;03m# Find the table containing the records\u001b[39;00m\n\u001b[1;32m      7\u001b[0m \u001b[38;5;66;03m#list = soup.find(attrs={'class':'records-table'}).find('tbody') #Find the table containing the records\u001b[39;00m\n\u001b[0;32m----> 8\u001b[0m \u001b[38;5;28mlist\u001b[39m \u001b[38;5;241m=\u001b[39m \u001b[43msoup\u001b[49m\u001b[38;5;241;43m.\u001b[39;49m\u001b[43mfind\u001b[49m\u001b[43m(\u001b[49m\u001b[43mattrs\u001b[49m\u001b[38;5;241;43m=\u001b[39;49m\u001b[43m{\u001b[49m\u001b[38;5;124;43m'\u001b[39;49m\u001b[38;5;124;43mrole\u001b[39;49m\u001b[38;5;124;43m'\u001b[39;49m\u001b[43m:\u001b[49m\u001b[43m \u001b[49m\u001b[38;5;124;43m'\u001b[39;49m\u001b[38;5;124;43mtab-panel\u001b[39;49m\u001b[38;5;124;43m'\u001b[39;49m\u001b[43m,\u001b[49m\u001b[43m \u001b[49m\u001b[38;5;124;43m'\u001b[39;49m\u001b[38;5;124;43mclass\u001b[39;49m\u001b[38;5;124;43m'\u001b[39;49m\u001b[43m:\u001b[49m\u001b[43m \u001b[49m\u001b[38;5;124;43m'\u001b[39;49m\u001b[38;5;124;43mtab-pane active\u001b[39;49m\u001b[38;5;124;43m'\u001b[39;49m\u001b[43m}\u001b[49m\u001b[43m)\u001b[49m\u001b[38;5;241;43m.\u001b[39;49m\u001b[43mfind\u001b[49m(\u001b[38;5;124m'\u001b[39m\u001b[38;5;124mtbody\u001b[39m\u001b[38;5;124m'\u001b[39m) \u001b[38;5;66;03m#Find the table containing the records\u001b[39;00m\n\u001b[1;32m     10\u001b[0m \u001b[38;5;66;03m# Find all table rows\u001b[39;00m\n\u001b[1;32m     11\u001b[0m liste_items \u001b[38;5;241m=\u001b[39m \u001b[38;5;28mlist\u001b[39m\u001b[38;5;241m.\u001b[39mfind_all(\u001b[38;5;124m'\u001b[39m\u001b[38;5;124mtr\u001b[39m\u001b[38;5;124m'\u001b[39m)\n",
      "\u001b[0;31mAttributeError\u001b[0m: 'NoneType' object has no attribute 'find'"
     ]
    }
   ],
   "source": [
    "driver = webdriver.Chrome()\n",
    "\n",
    "driver.get(\"https://worldathletics.org/records/by-category/world-records\")\n",
    "\n",
    "content = driver.page_source\n",
    "\n",
    "create_csv(content, \"women_records.csv\")\n",
    "\n",
    "try:\n",
    "    button = driver.find_element(By.XPATH, \"/html/body/div[3]/div/div[3]/div/ul/li[2]\")\n",
    "    button.click()\n",
    "\n",
    "    time.sleep(5)\n",
    "    content = driver.page_source\n",
    "except:\n",
    "    assert False\n",
    "\n",
    "create_csv(content, \"men_records.csv\")"
   ]
  },
  {
   "cell_type": "code",
   "execution_count": null,
   "metadata": {},
   "outputs": [],
   "source": [
    "driver = webdriver.Chrome()\n",
    "\n",
    "driver.get(\"https://worldathletics.org/records/by-category/world-records\")\n",
    "\n",
    "#récupère le contenu de la page\n",
    "content = driver.page_source\n",
    "\n",
    "soup = BeautifulSoup(content, 'html.parser')\n",
    "\n",
    "list = soup.find(attrs={'class':'records-table'}).find('tbody') #Find the table containing the records\n",
    "\n",
    "liste_items = list.find_all('tr')\n",
    "\n",
    "DISCIPLINE = []\n",
    "PERF = []\n",
    "COMPETITOR = []\n",
    "DOB = []\n",
    "COUNTRY = []\n",
    "VENUE = []\n",
    "DATE = []\n",
    "\n",
    "for item in liste_items:\n",
    "    \n",
    "    row = item.find_all('td')\n",
    "\n",
    "    DISCIPLINE.append(row[0].text.strip())\n",
    "\n",
    "    perf = row[2].text.strip()\n",
    "    for r in [\"*\", \"Mx\", \"Wo\", \"h\"]:\n",
    "        perf = perf.replace(r, \"\")\n",
    "    PERF.append(perf.strip())\n",
    "\n",
    "    COMPETITOR.append(row[4].text.strip())\n",
    "\n",
    "    DOB.append(row[5].text.strip())\n",
    "    \n",
    "    COUNTRY.append(row[6].text.strip())\n",
    "\n",
    "    VENUE.append(row[7].text.strip())\n",
    "\n",
    "    DATE.append(row[8].text.strip())\n",
    "\n",
    "women_records = pd.DataFrame({'DISCIPLINE': DISCIPLINE,\n",
    "                              'PERF': PERF,\n",
    "                              'COMPETITOR': COMPETITOR,\n",
    "                              'DOB': DOB,\n",
    "                              'COUNTRY': COUNTRY,\n",
    "                              'VENUE': VENUE,\n",
    "                              'DATE': DATE})\n",
    "women_records.to_csv(\"women_records.csv\", index=False)"
   ]
  },
  {
   "cell_type": "code",
   "execution_count": 2,
   "metadata": {},
   "outputs": [],
   "source": [
    "driver = webdriver.Chrome()\n",
    "\n",
    "driver.get(\"https://worldathletics.org/records/by-category/world-records\")\n",
    "\n",
    "#récupère le contenu de la page\n",
    "content = driver.page_source"
   ]
  },
  {
   "cell_type": "code",
   "execution_count": 3,
   "metadata": {},
   "outputs": [],
   "source": [
    "soup = BeautifulSoup(content, 'html.parser')"
   ]
  },
  {
   "cell_type": "code",
   "execution_count": 4,
   "metadata": {},
   "outputs": [],
   "source": [
    "list = soup.find(attrs={'class':'records-table'}).find('tbody') #Find the table containing the records"
   ]
  },
  {
   "cell_type": "code",
   "execution_count": 5,
   "metadata": {},
   "outputs": [],
   "source": [
    "liste_items = list.find_all('tr')"
   ]
  },
  {
   "cell_type": "code",
   "execution_count": 9,
   "metadata": {},
   "outputs": [],
   "source": [
    "DISCIPLINE = []\n",
    "PERF = []\n",
    "COMPETITOR = []\n",
    "DOB = []\n",
    "COUNTRY = []\n",
    "VENUE = []\n",
    "DATE = []\n",
    "\n",
    "for item in liste_items:\n",
    "    \n",
    "    row = item.find_all('td')\n",
    "\n",
    "    DISCIPLINE.append(row[0].text.strip())\n",
    "\n",
    "    perf = row[2].text.strip()\n",
    "    for r in [\"*\", \"Mx\", \"Wo\", \"h\"]:\n",
    "        perf = perf.replace(r, \"\")\n",
    "    PERF.append(perf.strip())\n",
    "\n",
    "    COMPETITOR.append(row[4].text.strip())\n",
    "\n",
    "    DOB.append(row[5].text.strip())\n",
    "    \n",
    "    COUNTRY.append(row[6].text.strip())\n",
    "\n",
    "    VENUE.append(row[7].text.strip())\n",
    "\n",
    "    DATE.append(row[8].text.strip())"
   ]
  },
  {
   "cell_type": "code",
   "execution_count": 10,
   "metadata": {},
   "outputs": [],
   "source": [
    "women_records = pd.DataFrame({'DISCIPLINE': DISCIPLINE,\n",
    "                              'PERF': PERF,\n",
    "                              'COMPETITOR': COMPETITOR,\n",
    "                              'DOB': DOB,\n",
    "                              'COUNTRY': COUNTRY,\n",
    "                              'VENUE': VENUE,\n",
    "                              'DATE': DATE})\n",
    "women_records.to_csv(\"women_records.csv\", index=False)"
   ]
  }
 ],
 "metadata": {
  "kernelspec": {
   "display_name": "env",
   "language": "python",
   "name": "python3"
  },
  "language_info": {
   "codemirror_mode": {
    "name": "ipython",
    "version": 3
   },
   "file_extension": ".py",
   "mimetype": "text/x-python",
   "name": "python",
   "nbconvert_exporter": "python",
   "pygments_lexer": "ipython3",
   "version": "3.11.8"
  }
 },
 "nbformat": 4,
 "nbformat_minor": 2
}
